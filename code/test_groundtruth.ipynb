{
 "cells": [
  {
   "cell_type": "code",
   "execution_count": 25,
   "metadata": {
    "collapsed": true
   },
   "outputs": [],
   "source": [
    "%load_ext autoreload\n",
    "%autoreload 2"
   ]
  },
  {
   "cell_type": "code",
   "execution_count": 1,
   "metadata": {
    "collapsed": true
   },
   "outputs": [],
   "source": [
    "import matplotlib.pyplot as plt, argparse, numpy as np, math, sys, copy\n",
    "from skimage.segmentation import slic, mark_boundaries, felzenszwalb\n",
    "from skimage.util import img_as_float\n",
    "from scipy.cluster import hierarchy\n",
    "from skimage import io\n",
    "from collections import defaultdict\n",
    "import numpy as np\n",
    "import SPHC as sphc\n",
    "import superpixels as sp\n",
    "import plot as pl\n",
    "import process_ground_truth as pgt"
   ]
  },
  {
   "cell_type": "code",
   "execution_count": 2,
   "metadata": {
    "collapsed": true
   },
   "outputs": [],
   "source": [
    "imagePath = 'images/'\n",
    "segmPath = 'images/segmentation/'\n",
    "borderPath = 'images/borders/'\n",
    "ultraPath = 'images/ultrametric/'\n",
    "groundPath = 'BSDS500/data/groundTruth/train/'\n",
    "trainPath = 'BSDS500/data/images/train/'\n",
    "imageFiles = ['3063.jpg'] #, '71076.jpg', '100007.jpg', '101084.jpg', '385039.jpg']"
   ]
  },
  {
   "cell_type": "code",
   "execution_count": 4,
   "metadata": {},
   "outputs": [
    {
     "name": "stderr",
     "output_type": "stream",
     "text": [
      "/home/falreis/miniconda2/envs/paa/lib/python3.5/site-packages/skimage/util/dtype.py:122: UserWarning: Possible precision loss when converting from float64 to uint8\n",
      "  .format(dtypeobj_in, dtypeobj_out))\n"
     ]
    },
    {
     "name": "stdout",
     "output_type": "stream",
     "text": [
      "Done\n"
     ]
    },
    {
     "name": "stderr",
     "output_type": "stream",
     "text": [
      "/home/falreis/miniconda2/envs/paa/lib/python3.5/site-packages/skimage/io/_io.py:132: UserWarning: images/ultrametric/ult_3063_2.jpg is a low contrast image\n",
      "  warn('%s is a low contrast image' % fname)\n"
     ]
    }
   ],
   "source": [
    "for file in imageFiles:\n",
    "    image = img_as_float(io.imread((imagePath + file)))\n",
    "    sp.process_image(image, save=True, filename = file, paths=[segmPath, borderPath, ultraPath])\n",
    "    \n",
    "print('Done')"
   ]
  },
  {
   "cell_type": "code",
   "execution_count": 30,
   "metadata": {
    "scrolled": false
   },
   "outputs": [
    {
     "data": {
      "image/png": "[encoded data removed]",
      "text/plain": [
       "<matplotlib.figure.Figure at 0x7f5b4ce80e48>"
      ]
     },
     "metadata": {},
     "output_type": "display_data"
    }
   ],
   "source": [
    "ground_base = pgt.get_groundTruth((groundPath + '2092.mat'))\n",
    "ground_shape = (ground_base.shape[0], ground_base.shape[1], 3)\n",
    "\n",
    "img = np.zeros(ground_shape,dtype=np.uint8) #create blank image to save\n",
    "for i in range(3):\n",
    "    img[:, :, i] = ground_base[:,:, 0]\n",
    "\n",
    "image = img_as_float(io.imread((trainPath + '2092.jpg')))\n",
    "_, fs_borders, ult = sp.process_image(image\n",
    "                                      , slic_segments = 1024\n",
    "                                      , felz_scale = 2048\n",
    "                                      , felz_min_size = 30\n",
    "                                      , save=False\n",
    "                                      , filename = file\n",
    "                                      , paths=[segmPath, borderPath, ultraPath])\n",
    "\n",
    "#plot images\n",
    "lult = int(len(ult) / 3)\n",
    "segult = []\n",
    "labels = []\n",
    "segult.append(img)\n",
    "labels.append('Ground truth')\n",
    "for i in range(0,3):\n",
    "    index = i*lult\n",
    "    segult.append(ult[index])\n",
    "    labels.append('Segments: ' + str(len(ult) - index))\n",
    "\n",
    "pl.plot_compare_4(segult, labels, True)"
   ]
  },
  {
   "cell_type": "code",
   "execution_count": 31,
   "metadata": {},
   "outputs": [
    {
     "name": "stdout",
     "output_type": "stream",
     "text": [
      "Precision is: 0.385555253869\n",
      "Recall is:0.400018497965\n"
     ]
    }
   ],
   "source": [
    "import eval_boundary as ev\n",
    "\n",
    "fs_ultrametric = ult[0][:, :, 0:1]\n",
    "precision, recall = ev.eval_bound(fs_ultrametric, ground_base, 4)\n",
    "print(\"Precision is: \" + str(precision))\n",
    "print(\"Recall is: \" + str(recall))"
   ]
  },
  {
   "cell_type": "code",
   "execution_count": null,
   "metadata": {
    "collapsed": true
   },
   "outputs": [],
   "source": []
  }
 ],
 "metadata": {
  "kernelspec": {
   "display_name": "Python 3",
   "language": "python",
   "name": "python3"
  },
  "language_info": {
   "codemirror_mode": {
    "name": "ipython",
    "version": 3
   },
   "file_extension": ".py",
   "mimetype": "text/x-python",
   "name": "python",
   "nbconvert_exporter": "python",
   "pygments_lexer": "ipython3",
   "version": "3.5.2"
  },
  "widgets": {
   "state": {},
   "version": "1.1.2"
  }
 },
 "nbformat": 4,
 "nbformat_minor": 2
}
