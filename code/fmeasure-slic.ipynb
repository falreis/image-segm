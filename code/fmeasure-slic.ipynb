{
 "cells": [
  {
   "cell_type": "code",
   "execution_count": 1,
   "metadata": {
    "collapsed": true
   },
   "outputs": [],
   "source": [
    "%load_ext autoreload\n",
    "%autoreload 2\n",
    "\n",
    "import warnings\n",
    "warnings.filterwarnings(\"ignore\")"
   ]
  },
  {
   "cell_type": "code",
   "execution_count": 2,
   "metadata": {},
   "outputs": [],
   "source": [
    "import matplotlib.pyplot as plt, argparse, numpy as np, math, sys, copy\n",
    "from skimage.segmentation import slic, mark_boundaries, felzenszwalb\n",
    "from skimage.util import img_as_float\n",
    "from skimage import io\n",
    "import numpy as np\n",
    "import superpixels as sp\n",
    "import plot as pl\n",
    "import process_ground_truth as pgt\n",
    "import glob\n",
    "import eval_boundary as ev\n",
    "import pipeline as pipe\n",
    "import time\n",
    "import superpixels as sp"
   ]
  },
  {
   "cell_type": "code",
   "execution_count": 3,
   "metadata": {
    "collapsed": true
   },
   "outputs": [],
   "source": [
    "ground_path = 'BSDS500/data/groundTruth/val/'\n",
    "train_path = 'BSDS500/data/images/val/'\n",
    "save_path = 'save/gslic/'\n",
    "bound_prefix = save_path + 'images/'\n",
    "eval_prefix = save_path + 'eval/'\n",
    "extension = '.npz'"
   ]
  },
  {
   "cell_type": "code",
   "execution_count": null,
   "metadata": {},
   "outputs": [],
   "source": [
    "imagePath = 'images/'\n",
    "imageFile ='3063.jpg'\n",
    "image = img_as_float(io.imread((imagePath + imageFile)))\n",
    "\n",
    "seg_slic = slic(image, n_segments = 128, slic_zero = True)\n",
    "\n",
    "s_image, n_segs, colors = sp.color_superpixel(image, seg_slic)\n",
    "\n",
    "fig, (ax2, ax3) = plt.subplots(1,2, figsize=(20, 20))\n",
    "ax2.imshow(image)\n",
    "ax2.set_title(\"Original\")\n",
    "ax2.set_axis_off()\n",
    "ax3.imshow(s_image)\n",
    "ax3.set_title(\"Slic\")\n",
    "ax3.set_axis_off()\n",
    "plt.show() "
   ]
  },
  {
   "cell_type": "code",
   "execution_count": null,
   "metadata": {},
   "outputs": [],
   "source": [
    "img = np.zeros(image.shape,dtype=np.uint8) #create blank image to save\n",
    "img.fill(255)\n",
    "\n",
    "cutz_images, cutz_nsegs = sp.generate_ultrametric_map(img, colors, seg_slic, n_segs\n",
    "                                                      , step =3, start_at = 20, stop_at = 10)\n",
    "print(len(cutz_images))"
   ]
  },
  {
   "cell_type": "code",
   "execution_count": null,
   "metadata": {},
   "outputs": [],
   "source": [
    "ground_file ='3063.mat'\n",
    "groundtruth = pgt.get_groundTruth(imagePath + ground_file)\n",
    "\n",
    "ground_image = np.zeros(image.shape,dtype=np.uint8)\n",
    "for i in range(0,3):\n",
    "    ground_image[:, :, i] = groundtruth[:, :, 0]\n",
    "\n",
    "img = np.zeros(image.shape,dtype=np.uint8) #create blank image to save\n",
    "img.fill(255)\n",
    "    \n",
    "best_fmeasure = 0\n",
    "for i in range(len(cutz_images)):\n",
    "    precision, recall = ev.eval_bound(groundtruth, cutz_images[i], 0, True)\n",
    "    fmeasure = 2 * ((precision * recall) / (precision + recall))\n",
    "    \n",
    "    if fmeasure > best_fmeasure:\n",
    "        best_fmeasure = fmeasure\n",
    "    \n",
    "print(best_fmeasure)"
   ]
  },
  {
   "cell_type": "markdown",
   "metadata": {},
   "source": [
    "### Read Groundtruth"
   ]
  },
  {
   "cell_type": "code",
   "execution_count": 4,
   "metadata": {},
   "outputs": [
    {
     "name": "stdout",
     "output_type": "stream",
     "text": [
      "100 100\n"
     ]
    }
   ],
   "source": [
    "len_ground = len(ground_path)\n",
    "ground_files = glob.glob(ground_path + '*.mat')\n",
    "ground_filenames = [x[len_ground:-4] for x in ground_files]\n",
    "\n",
    "groundtruths, images, names = [], [], []\n",
    "\n",
    "#load images\n",
    "for filename in ground_filenames:\n",
    "    ground_file = ground_path + filename + '.mat'\n",
    "    train_file = train_path + filename + '.jpg'\n",
    "    \n",
    "    #read groundtruth and image\n",
    "    groundtruth = pgt.get_groundTruth(ground_file)\n",
    "    image = img_as_float(io.imread(train_file))\n",
    "    \n",
    "    #append image and groundtruths\n",
    "    groundtruths.append(groundtruth)\n",
    "    images.append(image)\n",
    "    names.append(filename + '.png')\n",
    "    \n",
    "print(len(groundtruths), len(images))"
   ]
  },
  {
   "cell_type": "markdown",
   "metadata": {},
   "source": [
    "### Generate boundaries and save results"
   ]
  },
  {
   "cell_type": "code",
   "execution_count": 5,
   "metadata": {},
   "outputs": [
    {
     "name": "stdout",
     "output_type": "stream",
     "text": [
      "10\n",
      "20\n",
      "30\n",
      "40\n",
      "50\n",
      "60\n",
      "70\n",
      "80\n",
      "90\n",
      "100\n",
      "281.20791482925415 seconds\n"
     ]
    }
   ],
   "source": [
    "ini = 0\n",
    "fim = len(ground_filenames)\n",
    "\n",
    "methods = ['hslic']\n",
    "\n",
    "for method in methods:\n",
    "    borders = []\n",
    "    last_shape = None\n",
    "    img = None\n",
    "    index = 0\n",
    "    \n",
    "    starttime = time.time()\n",
    "    for groundtruth, image, name in zip(groundtruths[ini:fim], images[ini:fim], names[ini:fim]):\n",
    "        if(image.shape != last_shape):\n",
    "            img = np.zeros(image.shape,dtype=np.uint8) #create blank image to save\n",
    "            last_shape = image.shape\n",
    "        \n",
    "        seg_slic = slic(image, n_segments = 128, slic_zero = True)\n",
    "        s_image, n_segs, colors = sp.color_superpixel(image, seg_slic)\n",
    "        ultra_image = sp.generate_ultrametric_image(img, colors, seg_slic, n_segs\n",
    "                                                    , step = 2, start_at = 15, stop_at = 1)\n",
    "        \n",
    "        #convert to grayscale\n",
    "        gray_image = np.dot(ultra_image[...,:3], [0.299, 0.587, 0.114])\n",
    "        \n",
    "        #save image\n",
    "        boundname = bound_prefix + name\n",
    "        io.imsave(boundname, gray_image)\n",
    "        \n",
    "        #verbose mode\n",
    "        index += 1\n",
    "        if index % 10 == 0:\n",
    "            print(index)\n",
    "\n",
    "    endtime = time.time()\n",
    "        \n",
    "    #np.savez(boundname, borders=borders)\n",
    "    print((endtime - starttime), 'seconds')"
   ]
  },
  {
   "cell_type": "markdown",
   "metadata": {},
   "source": [
    "### Recover boundaries and evaluate results"
   ]
  },
  {
   "cell_type": "code",
   "execution_count": 6,
   "metadata": {},
   "outputs": [
    {
     "name": "stdout",
     "output_type": "stream",
     "text": [
      "10\n",
      "20\n",
      "30\n",
      "40\n",
      "50\n",
      "60\n",
      "70\n",
      "80\n",
      "90\n",
      "100\n",
      "1320.4655997753143 seconds\n"
     ]
    }
   ],
   "source": [
    "ini = 0\n",
    "fim = len(ground_filenames)\n",
    "\n",
    "epsilon = 1e-4 #just to round down\n",
    "\n",
    "methods = ['hslic']\n",
    "\n",
    "for method in methods:    \n",
    "    threshold = 0\n",
    "    index = 0\n",
    "\n",
    "    starttime = time.time()\n",
    "    \n",
    "    for groundtruth, name in zip(groundtruths[ini:fim], names[ini:fim]):\n",
    "        precisions, recalls = [], []\n",
    "        \n",
    "        boundname = bound_prefix + name\n",
    "        evalname = eval_prefix + name + extension\n",
    "        \n",
    "        image = img_as_float(io.imread(boundname))        \n",
    "        unique = np.unique(image)\n",
    "                \n",
    "        for thresh in unique[1:]:\n",
    "            thresh_image = image\n",
    "            thresh_image[image < (thresh + epsilon)] = 0 #round down thresh\n",
    "            thresh_image[image >= (thresh + epsilon)] = 1\n",
    "\n",
    "            #calculate values from precision and recall\n",
    "            precision, recall = ev.eval_bound(groundtruth[:,:,0], thresh_image, threshold, True)\n",
    "            precisions.append(precision)\n",
    "            recalls.append(recall)\n",
    "        \n",
    "        #verbose mode\n",
    "        index += 1\n",
    "        if index % 10 == 0:\n",
    "            print(index)\n",
    "        \n",
    "        #save precision file\n",
    "        np.savez(evalname, precisions=precisions, recalls=recalls)\n",
    "            \n",
    "    endtime = time.time()\n",
    "    print((endtime - starttime), 'seconds')"
   ]
  },
  {
   "cell_type": "markdown",
   "metadata": {},
   "source": [
    "### Load evaluations and calculate f-measures"
   ]
  },
  {
   "cell_type": "code",
   "execution_count": 7,
   "metadata": {},
   "outputs": [
    {
     "name": "stdout",
     "output_type": "stream",
     "text": [
      "[ 0.10947253  0.10947253  0.10947253  0.10947253  0.10947253  0.10947253]\n"
     ]
    }
   ],
   "source": [
    "methods = ['hslic']\n",
    "fmeasures = []\n",
    "\n",
    "for method in methods:\n",
    "    precisions, recalls = [], []\n",
    "    \n",
    "    eval_files = glob.glob(eval_prefix + '*' + extension)\n",
    "    \n",
    "    for filename in eval_files:\n",
    "        npload = np.load(filename)\n",
    "        precisions.append(npload['precisions'])\n",
    "        recalls.append(npload['recalls'])\n",
    "\n",
    "    len_precisions = 1000000\n",
    "        \n",
    "    for i in range(len(precisions)):\n",
    "        if (len(precisions[i]) < len_precisions):\n",
    "            len_precisions = len(precisions[i])\n",
    "            \n",
    "    for i in range(0,len_precisions):\n",
    "        cutz_precision, cutz_recall = [], []\n",
    "        \n",
    "        for precision, recall in zip(precisions, recalls):\n",
    "            cutz_precision.append(precision[i])\n",
    "            cutz_recall.append(recall[i])\n",
    "    \n",
    "        np_precisions = (np.array(cutz_precision))\n",
    "        np_recalls = (np.array(cutz_recall))\n",
    "\n",
    "        fmeasure = 2 * ((np_precisions * np_recalls) / (np_precisions + np_recalls))\n",
    "        fmeasures.append(fmeasure)\n",
    "        \n",
    "print(np.average(fmeasures, axis=1))"
   ]
  },
  {
   "cell_type": "code",
   "execution_count": null,
   "metadata": {
    "collapsed": true
   },
   "outputs": [],
   "source": []
  }
 ],
 "metadata": {
  "kernelspec": {
   "display_name": "Python 3",
   "language": "python",
   "name": "python3"
  },
  "language_info": {
   "codemirror_mode": {
    "name": "ipython",
    "version": 3
   },
   "file_extension": ".py",
   "mimetype": "text/x-python",
   "name": "python",
   "nbconvert_exporter": "python",
   "pygments_lexer": "ipython3",
   "version": "3.5.2"
  },
  "widgets": {
   "state": {},
   "version": "1.1.2"
  }
 },
 "nbformat": 4,
 "nbformat_minor": 2
}
