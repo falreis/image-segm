{
 "cells": [
  {
   "cell_type": "code",
   "execution_count": 1,
   "metadata": {},
   "outputs": [
    {
     "name": "stdout",
     "output_type": "stream",
     "text": [
      "Done\n"
     ]
    }
   ],
   "source": [
    "import matplotlib.pyplot as plt, argparse, numpy as np, math, sys, copy\n",
    "from skimage.segmentation import slic, mark_boundaries, felzenszwalb\n",
    "from skimage.util import img_as_float\n",
    "from scipy.cluster import hierarchy\n",
    "from skimage import io\n",
    "from collections import defaultdict\n",
    "import numpy as np\n",
    "import SPHC as sphc\n",
    "import util as ut"
   ]
  },
  {
   "cell_type": "code",
   "execution_count": 2,
   "metadata": {
    "collapsed": true
   },
   "outputs": [],
   "source": [
    "imagePath = 'images/'\n",
    "segmPath = 'images/segmentation/'\n",
    "borderPath = 'images/borders/'\n",
    "ultraPath = 'images/ultrametric/'\n",
    "groundPath = 'BSDS500/data/groundTruth/train/'\n",
    "trainPath = 'BSDS500/data/images/train/'\n",
    "imageFiles = ['3063.jpg'] #, '71076.jpg', '100007.jpg', '101084.jpg', '385039.jpg']"
   ]
  },
  {
   "cell_type": "code",
   "execution_count": 4,
   "metadata": {},
   "outputs": [
    {
     "name": "stdout",
     "output_type": "stream",
     "text": [
      "Done\n"
     ]
    },
    {
     "name": "stderr",
     "output_type": "stream",
     "text": [
      "/home/falreis/anaconda3/envs/paa/lib/python3.5/site-packages/skimage/util/dtype.py:122: UserWarning: Possible precision loss when converting from float64 to uint8\n",
      "  .format(dtypeobj_in, dtypeobj_out))\n"
     ]
    }
   ],
   "source": [
    "for file in imageFiles:\n",
    "    image = img_as_float(io.imread((imagePath + file)))\n",
    "    ut.process_image(image, save=True, filename = file, paths=[segmPath, borderPath, ultraPath])\n",
    "    \n",
    "print('Done')"
   ]
  },
  {
   "cell_type": "code",
   "execution_count": 15,
   "metadata": {
    "scrolled": false
   },
   "outputs": [
    {
     "data": {
      "image/png": "[encoded data removed]",
      "text/plain": [
       "<matplotlib.figure.Figure at 0x7f148d1c72b0>"
      ]
     },
     "metadata": {},
     "output_type": "display_data"
    }
   ],
   "source": [
    "import process_ground_truth as pgt\n",
    "\n",
    "ground_base = pgt.get_groundTruth((groundPath + '41004.mat'))\n",
    "ground_shape = (ground_base.shape[0], ground_base.shape[1], 3)\n",
    "\n",
    "img = np.zeros(ground_shape,dtype=np.uint8) #create blank image to save\n",
    "for i in range(3):\n",
    "    img[:, :, i] = ground_base[:,:, 0]\n",
    "\n",
    "image = img_as_float(io.imread((trainPath + '41004.jpg')))\n",
    "_, fs_borders, ult = ut.process_image(image, save=False, filename = file, paths=[segmPath, borderPath, ultraPath])\n",
    "    \n",
    "ut.plot_compare_4(ult, [], True)"
   ]
  },
  {
   "cell_type": "code",
   "execution_count": null,
   "metadata": {
    "collapsed": true
   },
   "outputs": [],
   "source": []
  }
 ],
 "metadata": {
  "kernelspec": {
   "display_name": "Python 3",
   "language": "python",
   "name": "python3"
  },
  "language_info": {
   "codemirror_mode": {
    "name": "ipython",
    "version": 3
   },
   "file_extension": ".py",
   "mimetype": "text/x-python",
   "name": "python",
   "nbconvert_exporter": "python",
   "pygments_lexer": "ipython3",
   "version": "3.5.2"
  },
  "widgets": {
   "state": {},
   "version": "1.1.2"
  }
 },
 "nbformat": 4,
 "nbformat_minor": 2
}
