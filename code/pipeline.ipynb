{
 "cells": [
  {
   "cell_type": "code",
   "execution_count": 1,
   "metadata": {},
   "outputs": [],
   "source": [
    "%load_ext autoreload\n",
    "%autoreload 2"
   ]
  },
  {
   "cell_type": "code",
   "execution_count": 2,
   "metadata": {
    "collapsed": true
   },
   "outputs": [],
   "source": [
    "import matplotlib.pyplot as plt, argparse, numpy as np, math, sys, copy\n",
    "from skimage.segmentation import slic, mark_boundaries, felzenszwalb\n",
    "from skimage.util import img_as_float\n",
    "from scipy.cluster import hierarchy\n",
    "from skimage import io\n",
    "from collections import defaultdict\n",
    "import numpy as np\n",
    "import superpixels as sp\n",
    "import plot as pl\n",
    "import process_ground_truth as pgt\n",
    "import glob\n",
    "import eval_boundary as ev"
   ]
  },
  {
   "cell_type": "code",
   "execution_count": 3,
   "metadata": {
    "collapsed": true
   },
   "outputs": [],
   "source": [
    "ground_path = 'BSDS500/data/groundTruth/train/'\n",
    "train_path = 'BSDS500/data/images/train/'"
   ]
  },
  {
   "cell_type": "markdown",
   "metadata": {},
   "source": [
    "### Define parameters for process_image\n",
    "\n",
    "Just run if you need to (it take a long time)"
   ]
  },
  {
   "cell_type": "code",
   "execution_count": 49,
   "metadata": {},
   "outputs": [
    {
     "name": "stdout",
     "output_type": "stream",
     "text": [
      "BSDS500/data/images/train/65132.jpg\n",
      "Max precision:  0.252566915314\n",
      "Max index:  1\n",
      "Best slic:  896\n",
      "Best felz: 1024\n"
     ]
    },
    {
     "data": {
      "image/png": "[encoded data removed]",
      "text/plain": [
       "<matplotlib.figure.Figure at 0x7fe07da8ae80>"
      ]
     },
     "metadata": {},
     "output_type": "display_data"
    }
   ],
   "source": [
    "len_ground = len(ground_path)\n",
    "ground_files = glob.glob(ground_path + '*.mat')\n",
    "ground_filenames = [x[len_ground:-4] for x in ground_files]\n",
    "\n",
    "index_filename = int(np.random.rand() * len_ground)\n",
    "\n",
    "for filename in ground_filenames[index_filename-1:index_filename]:\n",
    "    ground_file = ground_path + filename + '.mat'\n",
    "    train_file = train_path + filename + '.jpg'\n",
    "    \n",
    "    groundtruth = pgt.get_groundTruth(ground_file)\n",
    "    image = img_as_float(io.imread(train_file))\n",
    "    \n",
    "    best_precision, best_index = 0.0, 0.0\n",
    "    best_slic, best_felz = 0, 0\n",
    "    \n",
    "    for slic_index in range(512, 1024, 128):\n",
    "        for felz_index in range(1024, 2048, 128):\n",
    "            _, fs_borders, fs_ultrametric = sp.process_image(image\n",
    "                                                              , slic_segments = slic_index\n",
    "                                                              , felz_scale = felz_index\n",
    "                                                              , felz_min_size = 30\n",
    "                                                              , save=False)\n",
    "\n",
    "            len_ultra = len(fs_ultrametric)\n",
    "\n",
    "            for i in range(len_ultra-1, 0, -1):       \n",
    "                fs_ultra = fs_ultrametric[i][:, :, 0:1]\n",
    "                precision, recall = ev.eval_bound(groundtruth, fs_ultra, 0)\n",
    "\n",
    "                if precision > best_precision:\n",
    "                    best_precision = precision\n",
    "                    best_index = i\n",
    "                    best_slic = slic_index\n",
    "                    best_felz = felz_index\n",
    "\n",
    "                    \n",
    "    _, fs_borders, fs_ultrametric = sp.process_image(image\n",
    "                                                      , slic_segments = best_slic\n",
    "                                                      , felz_scale = best_felz\n",
    "                                                      , felz_min_size = 30\n",
    "                                                      , save=False)\n",
    "                    \n",
    "    print(train_file)\n",
    "    print('Max precision: ', best_precision)\n",
    "    print('Max index: ', best_index)\n",
    "    print('Best slic: ', best_slic)\n",
    "    print('Best felz:', best_felz)\n",
    "    \n",
    "    ground_image = np.zeros(image.shape,dtype=np.uint8)\n",
    "    for i in range(0,3):\n",
    "        ground_image[:, :, i] = groundtruth[:, :, 0]\n",
    "    \n",
    "    fig, (ax1, ax2) = plt.subplots(1,2, figsize=(20, 20))\n",
    "    ax1.imshow(ground_image)\n",
    "    ax1.set_title(\"Groundtruth\")\n",
    "    ax1.set_axis_off()\n",
    "    ax2.imshow(fs_ultrametric[best_index])\n",
    "    ax2.set_title(\"Best precision\")\n",
    "    ax2.set_axis_off()\n",
    "    plt.show() "
   ]
  },
  {
   "cell_type": "markdown",
   "metadata": {
    "collapsed": true
   },
   "source": [
    "### Compare results with other methods"
   ]
  },
  {
   "cell_type": "code",
   "execution_count": 13,
   "metadata": {
    "collapsed": true
   },
   "outputs": [],
   "source": [
    "len_ground = len(ground_path)\n",
    "ground_files = glob.glob(ground_path + '*.mat')\n",
    "ground_filenames = [x[len_ground:-4] for x in ground_files]\n",
    "\n",
    "images = []\n",
    "groundtruths = []\n",
    "\n",
    "#load images\n",
    "for filename in ground_filenames[0:20]:\n",
    "    ground_file = ground_path + filename + '.mat'\n",
    "    train_file = train_path + filename + '.jpg'\n",
    "    \n",
    "    #read groundtruth and image\n",
    "    groundtruth = pgt.get_groundTruth(ground_file)\n",
    "    image = img_as_float(io.imread(train_file))\n",
    "    \n",
    "    #append image and groundtruths\n",
    "    groundtruths.append(groundtruth)\n",
    "    images.append(image)"
   ]
  },
  {
   "cell_type": "code",
   "execution_count": 27,
   "metadata": {
    "collapsed": true
   },
   "outputs": [],
   "source": [
    "img = np.zeros(image.shape,dtype=np.uint8) #create blank image to save\n",
    "img.fill(255)\n",
    "\n",
    "fs_borders, f_borders, s_borders = [], [], []\n",
    "\n",
    "#test values for slic, felz and slic+felz\n",
    "for groundtruth, image in zip(groundtruths[0:10], images[0:10]):\n",
    "    #slic+felz\n",
    "    _, fs_border, _ = sp.process_image(image\n",
    "                                        , slic_segments = 896\n",
    "                                        , felz_scale = 1024\n",
    "                                        , felz_min_size = 30\n",
    "                                        , ultrametric = False\n",
    "                                        , save=False)\n",
    "    \n",
    "    img = np.zeros(image.shape,dtype=np.uint8) #create blank image to save\n",
    "    img.fill(255)\n",
    "    \n",
    "    #felz\n",
    "    f_segs = felzenszwalb(image, 1024, 30)\n",
    "    f_border = mark_boundaries(img, f_segs, color=(0, 0, 0))\n",
    "    \n",
    "    #slic\n",
    "    s_segs = slic(image, n_segments = 896, slic_zero = True)\n",
    "    s_border = mark_boundaries(img, s_segs, color=(0, 0, 0))\n",
    "    \n",
    "    fs_borders.append(fs_border[:, :, 0:1])\n",
    "    f_borders.append(f_border[:, :, 0:1])\n",
    "    s_borders.append(s_border[:, :, 0:1])"
   ]
  },
  {
   "cell_type": "code",
   "execution_count": 31,
   "metadata": {},
   "outputs": [],
   "source": [
    "fs_precs, f_precs, s_precs = [], [], []\n",
    "fs_recall, f_recall, s_recall = [], [], []\n",
    "\n",
    "threshold = 2\n",
    "\n",
    "for groundtruth, fs_bor, f_bor, s_bor in zip(groundtruths[0:10], fs_borders, f_borders, s_borders):    \n",
    "    #eval precision\n",
    "    prec_fs, rec_fs = ev.eval_bound(groundtruth, fs_bor, threshold, True)\n",
    "    prec_f, rec_f = ev.eval_bound(groundtruth, f_bor, threshold, True)\n",
    "    prec_s, rec_s = ev.eval_bound(groundtruth, s_bor, threshold, True)\n",
    "    \n",
    "    #append results\n",
    "    fs_precs.append(prec_fs)\n",
    "    f_precs.append(prec_f)\n",
    "    s_precs.append(prec_s)\n",
    "    \n",
    "    fs_recall.append(rec_fs)\n",
    "    f_recall.append(rec_f)\n",
    "    s_recall.append(rec_s)"
   ]
  },
  {
   "cell_type": "code",
   "execution_count": 32,
   "metadata": {
    "scrolled": false
   },
   "outputs": [
    {
     "name": "stdout",
     "output_type": "stream",
     "text": [
      "Precision\n",
      "slic+felz >> max: 0.868654311039  avg: 0.672991506719\n",
      "felz >> max: 0.0166248955723  avg: 0.00166248955723\n",
      "slic >> max: 0.948174467042  avg: 0.892766043575\n",
      "Recall\n",
      "slic+felz >> max: 0.754354156365  avg: 0.571602878938\n",
      "felz >> max: 0.327935222672  avg: 0.0327935222672\n",
      "slic >> max: 0.308062174192  avg: 0.198648627021\n"
     ]
    }
   ],
   "source": [
    "print('Precision')\n",
    "print('slic+felz >>', 'max:', np.max(fs_precs), ' avg:', np.average(fs_precs))\n",
    "print('felz >>', 'max:', np.max(f_precs), ' avg:', np.average(f_precs))\n",
    "print('slic >>', 'max:', np.max(s_precs), ' avg:', np.average(s_precs))\n",
    "\n",
    "print('Recall')\n",
    "print('slic+felz >>', 'max:', np.max(fs_recall), ' avg:', np.average(fs_recall))\n",
    "print('felz >>', 'max:', np.max(f_recall), ' avg:', np.average(f_recall))\n",
    "print('slic >>', 'max:', np.max(s_recall), ' avg:', np.average(s_recall))"
   ]
  },
  {
   "cell_type": "code",
   "execution_count": null,
   "metadata": {
    "collapsed": true
   },
   "outputs": [],
   "source": []
  }
 ],
 "metadata": {
  "kernelspec": {
   "display_name": "Python 3",
   "language": "python",
   "name": "python3"
  },
  "language_info": {
   "codemirror_mode": {
    "name": "ipython",
    "version": 3
   },
   "file_extension": ".py",
   "mimetype": "text/x-python",
   "name": "python",
   "nbconvert_exporter": "python",
   "pygments_lexer": "ipython3",
   "version": "3.5.2"
  },
  "widgets": {
   "state": {},
   "version": "1.1.2"
  }
 },
 "nbformat": 4,
 "nbformat_minor": 2
}
