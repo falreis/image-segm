{
 "cells": [
  {
   "cell_type": "code",
   "execution_count": 1,
   "metadata": {
    "collapsed": true
   },
   "outputs": [],
   "source": [
    "import matplotlib.pyplot as plt, argparse, numpy as np, math, sys, copy\n",
    "from skimage.segmentation import slic, mark_boundaries, felzenszwalb\n",
    "from skimage.util import img_as_float\n",
    "from scipy.cluster import hierarchy\n",
    "from skimage import io\n",
    "from collections import defaultdict\n",
    "import numpy as np\n",
    "import SPHC as sphc\n",
    "import util as ut"
   ]
  },
  {
   "cell_type": "code",
   "execution_count": 2,
   "metadata": {
    "collapsed": true
   },
   "outputs": [],
   "source": [
    "imagePath = 'images/'\n",
    "segmPath = 'images/segmentation/'\n",
    "borderPath = 'images/borders/'\n",
    "ultraPath = 'images/ultrametric/'\n",
    "imageFiles = ['3063.jpg', '71076.jpg', '100007.jpg', '101084.jpg', '385039.jpg']"
   ]
  },
  {
   "cell_type": "code",
   "execution_count": 5,
   "metadata": {},
   "outputs": [
    {
     "name": "stderr",
     "output_type": "stream",
     "text": [
      "/home/falreis/anaconda3/envs/paa/lib/python3.5/site-packages/skimage/util/dtype.py:122: UserWarning: Possible precision loss when converting from float64 to uint8\n",
      "  .format(dtypeobj_in, dtypeobj_out))\n"
     ]
    },
    {
     "name": "stdout",
     "output_type": "stream",
     "text": [
      "Done\n"
     ]
    }
   ],
   "source": [
    "for file in imageFiles:\n",
    "    #read image\n",
    "    image = img_as_float(io.imread((imagePath + file)))\n",
    "    \n",
    "    #process slic\n",
    "    segs_slic = slic(image, n_segments = 512, slic_zero = True)\n",
    "    slic_image, _, _ = ut.color_superpixel(image, segs_slic)\n",
    "\n",
    "    #process felzenszwalb\n",
    "    segs_fs = felzenszwalb(slic_image, scale = 1536, min_size = 30)\n",
    "    fs_image, n_segs_fs, colors_fs = ut.color_superpixel(slic_image, segs_fs)\n",
    "    \n",
    "    #borders\n",
    "    img = np.zeros(image.shape,dtype=np.uint8) #create blank image to save\n",
    "    img.fill(255)\n",
    "    fs_borders = mark_boundaries(img, segs_fs, color=(0, 0, 0))\n",
    "    \n",
    "    #ultrametric\n",
    "    ultra_images, ultra_nsegs = ut.generate_ultrametric_map(img, colors_fs, segs_fs, n_segs_fs)\n",
    "    \n",
    "    #save borders\n",
    "    io.imsave((borderPath + 'bor_' +file), fs_borders)\n",
    "    \n",
    "    #save segmentation image\n",
    "    io.imsave((segmPath + 'seg_' +file), fs_image)\n",
    "    \n",
    "    #save ultrametric\n",
    "    for u_img, u_nseg in zip(ultra_images, ultra_nsegs):\n",
    "        io.imsave((ultraPath + 'ult_' + file[:-4] + '_' + str(u_nseg) + '.jpg'), u_img)\n",
    "    \n",
    "print('Done')"
   ]
  },
  {
   "cell_type": "code",
   "execution_count": null,
   "metadata": {
    "collapsed": true
   },
   "outputs": [],
   "source": []
  }
 ],
 "metadata": {
  "kernelspec": {
   "display_name": "Python 3",
   "language": "python",
   "name": "python3"
  },
  "language_info": {
   "codemirror_mode": {
    "name": "ipython",
    "version": 3
   },
   "file_extension": ".py",
   "mimetype": "text/x-python",
   "name": "python",
   "nbconvert_exporter": "python",
   "pygments_lexer": "ipython3",
   "version": "3.5.2"
  },
  "widgets": {
   "state": {},
   "version": "1.1.2"
  }
 },
 "nbformat": 4,
 "nbformat_minor": 2
}
